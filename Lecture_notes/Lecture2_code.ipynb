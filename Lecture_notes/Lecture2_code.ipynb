{
 "cells": [
  {
   "cell_type": "code",
   "execution_count": 4,
   "id": "40debac0",
   "metadata": {},
   "outputs": [],
   "source": [
    "# I have copied directly the notes from the class since I accidently deleted the notes that I made during the class. But I promise\n",
    "# this is the last time"
   ]
  },
  {
   "cell_type": "code",
   "execution_count": null,
   "id": "9ac4e00d",
   "metadata": {},
   "outputs": [],
   "source": [
    "from abc import ABC,abstractmethod \n",
    "  \n",
    "class Animal(ABC): \n",
    "  \n",
    "    #concrete method \n",
    "    # inherited \n",
    "    def sleep(self): \n",
    "        print(\"I am going to sleep in a while\") \n",
    "  \n",
    " \n",
    "    @abstractmethod \n",
    "    def sound(self): \n",
    "        print(\"This function is for defining the sound by any animal\") \n",
    " \n",
    "#Subclasses or child classes \n",
    "class Snake(Animal): \n",
    "    def sound(self): \n",
    "        print(\"I can hiss\") \n",
    "  \n",
    "class Dog(Animal): \n",
    "    def sound(self): \n",
    "        print(\"I can bark\") \n",
    "  \n",
    "class Lion(Animal): \n",
    "    def sound(self): \n",
    "        print(\"I can roar\") \n",
    "        \n",
    "class Cat(Animal): \n",
    "    #overriding \n",
    "    def sound(self): \n",
    "        print(\"I can meow\") \n",
    "         "
   ]
  },
  {
   "cell_type": "code",
   "execution_count": null,
   "id": "66815378",
   "metadata": {},
   "outputs": [],
   "source": [
    "c = Cat() \n",
    "c.sleep() \n",
    "c.sound() \n",
    "  \n",
    "c = Snake()"
   ]
  },
  {
   "cell_type": "code",
   "execution_count": null,
   "id": "e054386e",
   "metadata": {},
   "outputs": [],
   "source": [
    "class Rabbit(Animal): \n",
    "    def sound(self): \n",
    "        super().sound() \n",
    "        print(\"I can squeak\") \n",
    " \n",
    " \n",
    "c = Rabbit() \n",
    "c.sound() \n",
    "c.sleep()"
   ]
  },
  {
   "cell_type": "code",
   "execution_count": null,
   "id": "1fe39ba3",
   "metadata": {},
   "outputs": [],
   "source": [
    " #Error since you can instantiate abstract class with creating a method \n",
    "class Deer(Animal): \n",
    "     \n",
    "    def sound(self): \n",
    "        pass \n",
    " \n",
    "c = Deer() \n",
    "c.sound() \n",
    "c.sleep() "
   ]
  },
  {
   "cell_type": "markdown",
   "id": "573c007a",
   "metadata": {},
   "source": [
    "## Inheritance"
   ]
  },
  {
   "cell_type": "markdown",
   "id": "ec31e023",
   "metadata": {},
   "source": [
    "### 1.3.1 Single parent"
   ]
  },
  {
   "cell_type": "code",
   "execution_count": 2,
   "id": "c965de1a",
   "metadata": {},
   "outputs": [
    {
     "name": "stdout",
     "output_type": "stream",
     "text": [
      "Hello Parent\n",
      "Hello Child\n"
     ]
    }
   ],
   "source": [
    "# single inheritance example \n",
    "  \n",
    "class parent:                 \n",
    "    def func1(self):                    \n",
    "        print(\"Hello Parent\") \n",
    "  \n",
    "class child(parent):         \n",
    "    def func2(self):          \n",
    "        print(\"Hello Child\")   \n",
    "                                \n",
    "  \n",
    "test = child()                 \n",
    "test.func1()                   \n",
    "test.func2()                   "
   ]
  },
  {
   "cell_type": "markdown",
   "id": "e4ee10c3",
   "metadata": {},
   "source": [
    "### 1.3.2 Multiple parents"
   ]
  },
  {
   "cell_type": "code",
   "execution_count": 3,
   "id": "a008cf9a",
   "metadata": {},
   "outputs": [
    {
     "name": "stdout",
     "output_type": "stream",
     "text": [
      "Hello Parent1\n",
      "Hello Parent2\n",
      "Hello Child\n",
      "(<class '__main__.child'>, <class '__main__.parent1'>, <class '__main__.parent2'>, <class '__main__.parent3'>, <class 'object'>)\n"
     ]
    }
   ],
   "source": [
    "class parent1:                      \n",
    "    def func1(self):                    \n",
    "        print(\"Hello Parent1\") \n",
    "  \n",
    "class parent2:                     \n",
    "    def func2(self):                    \n",
    "        print(\"Hello Parent2\") \n",
    "  \n",
    "class parent3:                     \n",
    "    def func2(self):               \n",
    "        print(\"Hello Parent3\") \n",
    "  \n",
    "class child(parent1, parent2, parent3):     \n",
    "    def func3(self):                         \n",
    "        print(\"Hello Child\")             \n",
    "                            \n",
    "# Driver Code \n",
    "test = child()        \n",
    "test.func1()           \n",
    "test.func2()           \n",
    "test.func3()           \n",
    "  \n",
    "print(child.__mro__) "
   ]
  },
  {
   "cell_type": "code",
   "execution_count": null,
   "id": "1b5ffd6f",
   "metadata": {},
   "outputs": [],
   "source": []
  }
 ],
 "metadata": {
  "kernelspec": {
   "display_name": "Python 3 (ipykernel)",
   "language": "python",
   "name": "python3"
  },
  "language_info": {
   "codemirror_mode": {
    "name": "ipython",
    "version": 3
   },
   "file_extension": ".py",
   "mimetype": "text/x-python",
   "name": "python",
   "nbconvert_exporter": "python",
   "pygments_lexer": "ipython3",
   "version": "3.10.4"
  }
 },
 "nbformat": 4,
 "nbformat_minor": 5
}
