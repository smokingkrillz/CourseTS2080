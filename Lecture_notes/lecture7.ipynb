{
 "cells": [
  {
   "cell_type": "markdown",
   "metadata": {},
   "source": [
    "Properties represent structural features of a class. \n",
    "They are like fields in a class. Appear in 2 distinct notations\n",
    "attributes and associations\n",
    "Attributes: describes a property as a line of text within the class box itself\n",
    "visibility name: type multiplicity = default {property-string}\n",
    "visibility- public/private, name=name,type = string,int\n",
    "default = a default value\n",
    "property-string = any additional properties, like read only\n",
    "\n",
    "Associations: is a solid line bw two classes, directed from the source class to the target class.\n",
    "The name of the property goes at the target end of the association, with multiplicity.\n",
    "Th end of the association links to the class that is the type of the property.\n",
    "Associations can show multiplicites at both ends of the line\n",
    "Use attributes for smaller things and associations for bigger classes.\n",
    "\n",
    "Multiplicity: how many objects may fill the property\n",
    "1-only one\n",
    "0..1- 1 or 0\n",
    "* - zero or more\n",
    "usually defined with lower bound and upper bound(2..4)\n",
    "Optional implies a lower bound of 0.\n",
    "Mandatory implies a lower bound of 1 or possibly more.\n",
    "Single-valued implies an upper bound of 1.\n",
    "Multivalued implies an upper bound of more than 1: usually *.\n",
    "\n",
    "Bidirectional Associations\n",
    "Pair of properties that are linked together as inverses.The inverse link between them implies that if you follow both properties, you should get back to a set that contains your starting point.\n",
    "we can add an arrow to the association to avoid ambiguity.\n",
    "Another distinction is between operation and method. An operation is something that is invoked on an object—the procedure declaration—whereas a method is the body of a procedure. \n",
    "\n",
    "A typical example of generalization involves the personal and corporate customers of a business.-customers, actors\n",
    "\n",
    "substitutability-(This means that if I write code assuming I have a Customer, I can freely use any subtype of Customer)\n",
    "A dependency exists between two elements if changes to the definition of one element (the supplier) may cause changes to the other (the client)\n",
    "\n",
    "Interface: Classes implement interfaces, denoted by Generalisation\n",
    "at a high level, an interface acts as a blueprint or designing classes.\n",
    "An interface can contain only method declarations;\n",
    "Interfaces: implement all th mthods in the class that extends the interface.\n",
    "support the hiding of information and protect client code\n",
    "dotted line ----------\n",
    "Controlling dependencies\n"
   ]
  }
 ],
 "metadata": {
  "kernelspec": {
   "display_name": "Python 3.10.8 64-bit (microsoft store)",
   "language": "python",
   "name": "python3"
  },
  "language_info": {
   "name": "python",
   "version": "3.10.8"
  },
  "orig_nbformat": 4,
  "vscode": {
   "interpreter": {
    "hash": "bf72ae8ca4869d1a1c132bc30b49c55b5c80dec3d089191842822c346ce4ec56"
   }
  }
 },
 "nbformat": 4,
 "nbformat_minor": 2
}
