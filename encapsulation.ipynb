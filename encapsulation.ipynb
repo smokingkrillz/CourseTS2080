{
 "cells": [
  {
   "cell_type": "code",
   "execution_count": 2,
   "id": "1c6d6b2a",
   "metadata": {},
   "outputs": [
    {
     "name": "stdout",
     "output_type": "stream",
     "text": [
      "Jessa\n",
      "8000\n",
      "NLP\n"
     ]
    }
   ],
   "source": [
    "class Employee:\n",
    "    #constructor\n",
    "    def __init__(self,name,salary,project):\n",
    "        self.name = name\n",
    "        self.salary=salary\n",
    "        self.project = project\n",
    "#creating object of a class\n",
    "emp = Employee('Jessa',8000,'NLP')\n",
    "\n",
    "#calling public method of the class, printing the variables\n",
    "print(emp.name)\n",
    "print(emp.salary)\n",
    "print(emp.project)"
   ]
  },
  {
   "cell_type": "code",
   "execution_count": 14,
   "id": "d0dbbb04",
   "metadata": {},
   "outputs": [],
   "source": [
    "####Private "
   ]
  },
  {
   "cell_type": "code",
   "execution_count": 15,
   "id": "e33d1cbc",
   "metadata": {},
   "outputs": [
    {
     "name": "stdout",
     "output_type": "stream",
     "text": [
      "Jessa\n"
     ]
    },
    {
     "ename": "AttributeError",
     "evalue": "'Employee' object has no attribute 'salary'",
     "output_type": "error",
     "traceback": [
      "\u001b[1;31m---------------------------------------------------------------------------\u001b[0m",
      "\u001b[1;31mAttributeError\u001b[0m                            Traceback (most recent call last)",
      "Input \u001b[1;32mIn [15]\u001b[0m, in \u001b[0;36m<cell line: 12>\u001b[1;34m()\u001b[0m\n\u001b[0;32m     10\u001b[0m \u001b[38;5;66;03m#calling public method of the class, printing the variables\u001b[39;00m\n\u001b[0;32m     11\u001b[0m \u001b[38;5;28mprint\u001b[39m(emp\u001b[38;5;241m.\u001b[39mname)\n\u001b[1;32m---> 12\u001b[0m \u001b[38;5;28mprint\u001b[39m(\u001b[43memp\u001b[49m\u001b[38;5;241;43m.\u001b[39;49m\u001b[43msalary\u001b[49m)\n\u001b[0;32m     13\u001b[0m \u001b[38;5;28mprint\u001b[39m(emp\u001b[38;5;241m.\u001b[39mproject)\n",
      "\u001b[1;31mAttributeError\u001b[0m: 'Employee' object has no attribute 'salary'"
     ]
    }
   ],
   "source": [
    "class Employee:\n",
    "    #constructor\n",
    "    def __init__(self,name,salary,project):\n",
    "        self.name = name\n",
    "        self.__salary=salary\n",
    "        self.project = project\n",
    "#creating object of a class\n",
    "emp = Employee('Jessa',8000,'NLP')\n",
    "\n",
    "#calling public method of the class, printing the variables\n",
    "print(emp.name)\n",
    "print(emp.salary)\n",
    "print(emp.project)"
   ]
  },
  {
   "cell_type": "code",
   "execution_count": null,
   "id": "76cc6bd2",
   "metadata": {},
   "outputs": [],
   "source": [
    "class Employee:\n",
    "    #constructor\n",
    "    def __init__(self,name,salary,project):\n",
    "        self.name = name\n",
    "        self.__salary=salary\n",
    "        self.project = project\n",
    "    #public instance methods\n",
    "    def show(self):\n",
    "        #private members are accessible from a class\n",
    "        print(\"Name: \",self.name,\"Salary:\",self.__salary)\n",
    "#creating object of a class\n",
    "emp = Employee('Jessa',8000,'NLP')\n",
    "\n",
    "#calling public method of the class, printing the variables\n",
    "print(emp.name)\n",
    "print(\"Salary\",emp._Employee__salary)"
   ]
  },
  {
   "cell_type": "code",
   "execution_count": 8,
   "id": "dd8b63b5",
   "metadata": {},
   "outputs": [
    {
     "name": "stdout",
     "output_type": "stream",
     "text": [
      "Jessa\n",
      "Salary 8000\n"
     ]
    }
   ],
   "source": [
    "####Protected"
   ]
  },
  {
   "cell_type": "code",
   "execution_count": null,
   "id": "1bacee46",
   "metadata": {},
   "outputs": [],
   "source": [
    "class COmpany:\n",
    "    #constructor\n",
    "    def __init__(self):\n",
    "        #protected member\n",
    "        self._project = \"NLP\"\n",
    "class Employee(Company):\n",
    "    def __init__(self,name):\n",
    "        self.name = name\n",
    "        Company.__init__self(self)\n",
    "    def show(self):\n",
    "        print(\"Employee name: \",self.name)\n",
    "        #Accessing protected member in child class\n",
    "        print(\"Working on project:\", self._project)\n",
    "c = Employee(\"Jessa\")\n",
    "c.show()\n",
    "#Directed access protected data member\n",
    "print('Project:',c._project)"
   ]
  }
 ],
 "metadata": {
  "kernelspec": {
   "display_name": "Python 3 (ipykernel)",
   "language": "python",
   "name": "python3"
  },
  "language_info": {
   "codemirror_mode": {
    "name": "ipython",
    "version": 3
   },
   "file_extension": ".py",
   "mimetype": "text/x-python",
   "name": "python",
   "nbconvert_exporter": "python",
   "pygments_lexer": "ipython3",
   "version": "3.10.4"
  }
 },
 "nbformat": 4,
 "nbformat_minor": 5
}
